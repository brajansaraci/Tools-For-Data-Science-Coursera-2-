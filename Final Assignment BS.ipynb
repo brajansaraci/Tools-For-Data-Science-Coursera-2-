{
 "cells": [
  {
   "cell_type": "markdown",
   "metadata": {},
   "source": [
    "<center>\n",
    "    <img src=\"https://cf-courses-data.s3.us.cloud-object-storage.appdomain.cloud/IBMDeveloperSkillsNetwork-DS0105EN-SkillsNetwork/labs/Module2/images/SN_web_lightmode.png\" width=\"300\" alt=\"cognitiveclass.ai logo\">\n",
    "</center>\n"
   ]
  },
  {
   "cell_type": "markdown",
   "metadata": {},
   "source": [
    "#### Add your code below following the instructions given in the course\n"
   ]
  },
  {
   "cell_type": "markdown",
   "metadata": {},
   "source": [
    "# My Jupyter Notebook on IBM Watson Studio"
   ]
  },
  {
   "cell_type": "markdown",
   "metadata": {},
   "source": [
    "**Brajan Saraçi**, *Mechanical Engineer*"
   ]
  },
  {
   "cell_type": "markdown",
   "metadata": {},
   "source": [
    "*I'm interested in data science because I like maths and statistics. I would like apply analytical skills in my everyday job.*"
   ]
  },
  {
   "cell_type": "markdown",
   "metadata": {},
   "source": [
    "### The code below prints the sum of the first 100 integers."
   ]
  },
  {
   "cell_type": "code",
   "execution_count": 17,
   "metadata": {},
   "outputs": [
    {
     "data": {
      "text/plain": [
       "5050"
      ]
     },
     "execution_count": 17,
     "metadata": {},
     "output_type": "execute_result"
    }
   ],
   "source": [
    "def sum(n):\n",
    "    res = 0\n",
    "    for i in range(n):\n",
    "        res += (i+1)\n",
    "    return res\n",
    "\n",
    "# Sum of the three first integers. 0 not included.\n",
    "\n",
    "sum(100)"
   ]
  },
  {
   "cell_type": "markdown",
   "metadata": {},
   "source": [
    "* ### Visit my LinkedIn profile\n",
    "<a href=\"https://www.linkedin.com/in/bsaraci/\">Brajan Saraçi</a> \n",
    "\n",
    "* ### Progress on Coursera\n",
    "\n",
    "| Course name | Status | \n",
    "| ------ | ------ |\n",
    "| What is data science ?  | Finished |\n",
    "| Tools for data science | Finished |\n",
    "| Data Science Methodology | Starting next week !|\n",
    "\n",
    "> Here's a blackquote.\n"
   ]
  },
  {
   "cell_type": "code",
   "execution_count": null,
   "metadata": {},
   "outputs": [],
   "source": []
  }
 ],
 "metadata": {
  "kernelspec": {
   "display_name": "Python",
   "language": "python",
   "name": "conda-env-python-py"
  },
  "language_info": {
   "codemirror_mode": {
    "name": "ipython",
    "version": 3
   },
   "file_extension": ".py",
   "mimetype": "text/x-python",
   "name": "python",
   "nbconvert_exporter": "python",
   "pygments_lexer": "ipython3",
   "version": "3.7.12"
  }
 },
 "nbformat": 4,
 "nbformat_minor": 4
}
